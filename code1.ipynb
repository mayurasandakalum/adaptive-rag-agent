{
 "cells": [
  {
   "cell_type": "code",
   "execution_count": 11,
   "metadata": {},
   "outputs": [],
   "source": [
    "from groq import Groq\n",
    "\n",
    "api_key = \"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\"\n",
    "client = Groq(api_key=api_key)"
   ]
  },
  {
   "cell_type": "code",
   "execution_count": 39,
   "metadata": {},
   "outputs": [],
   "source": [
    "completion = client.chat.completions.create(\n",
    "    model=\"llama-3.3-70b-versatile\",\n",
    "    messages=[\n",
    "        {\n",
    "            \"role\": \"system\",\n",
    "            \"content\": \"You are a special kind of agent that when i give you an question, you will get answer for that question by solve that in step-by-step.\"\n",
    "        },\n",
    "        {\n",
    "            \"role\": \"user\",\n",
    "            \"content\": \"How many `r` letters in the word `strawberry`\"\n",
    "        }\n",
    "    ],\n",
    "    temperature=1,\n",
    "    max_tokens=1024,\n",
    "    top_p=1,\n",
    "    stream=True,\n",
    "    stop=None,\n",
    ")"
   ]
  },
  {
   "cell_type": "code",
   "execution_count": 40,
   "metadata": {},
   "outputs": [
    {
     "data": {
      "text/markdown": [
       "To find the number of `r` letters in the word `strawberry`, let's break it down step by step:\n",
       "\n",
       "1. **Write down the word**: The word is `strawberry`.\n",
       "2. **Separate the word into individual letters**: \n",
       "   - S\n",
       "   - T\n",
       "   - R\n",
       "   - A\n",
       "   - W\n",
       "   - B\n",
       "   - E\n",
       "   - R\n",
       "   - R\n",
       "   - Y\n",
       "3. **Count the `r` letters**:\n",
       "   - The first `r` appears after the `T`.\n",
       "   - The second `r` appears after the `E`.\n",
       "   - The third `r` appears after the second `R`.\n",
       "4. **Conclusion**: There are **3** `r` letters in the word `strawberry`."
      ],
      "text/plain": [
       "<IPython.core.display.Markdown object>"
      ]
     },
     "metadata": {},
     "output_type": "display_data"
    }
   ],
   "source": [
    "from IPython.display import display, Markdown, clear_output\n",
    "\n",
    "# Initialize an empty string to store the complete response\n",
    "full_response = \"\"\n",
    "\n",
    "# Stream the response\n",
    "for chunk in completion:\n",
    "    if chunk.choices[0].delta.content is not None:\n",
    "        full_response += chunk.choices[0].delta.content\n",
    "        clear_output(wait=True)\n",
    "        display(Markdown(full_response))"
   ]
  },
  {
   "cell_type": "code",
   "execution_count": null,
   "metadata": {},
   "outputs": [],
   "source": []
  },
  {
   "cell_type": "code",
   "execution_count": null,
   "metadata": {},
   "outputs": [],
   "source": []
  }
 ],
 "metadata": {
  "kernelspec": {
   "display_name": "ai-agents-env",
   "language": "python",
   "name": "python3"
  },
  "language_info": {
   "codemirror_mode": {
    "name": "ipython",
    "version": 3
   },
   "file_extension": ".py",
   "mimetype": "text/x-python",
   "name": "python",
   "nbconvert_exporter": "python",
   "pygments_lexer": "ipython3",
   "version": "3.12.8"
  }
 },
 "nbformat": 4,
 "nbformat_minor": 2
}
